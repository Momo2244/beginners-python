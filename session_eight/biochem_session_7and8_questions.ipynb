{
 "cells": [
  {
   "cell_type": "markdown",
   "metadata": {},
   "source": [
    "# Beginner's Python — Session 7 + 8 Biochemistry Questions"
   ]
  },
  {
   "cell_type": "code",
   "execution_count": null,
   "metadata": {},
   "outputs": [],
   "source": [
    "#Import some modules.\n",
    "import numpy as np\n",
    "import matplotlib.pyplot as plt\n",
    "import ast\n",
    "import rdkit\n",
    "import urllib\n",
    "import os\n",
    "from IPython.display import Image\n",
    "from tqdm.notebook import tqdm"
   ]
  },
  {
   "cell_type": "code",
   "execution_count": null,
   "metadata": {},
   "outputs": [],
   "source": [
    "# Install RDKit - For Google Colab.\n",
    "!pip install kora\n",
    "import kora.install.rdkit"
   ]
  },
  {
   "cell_type": "markdown",
   "metadata": {},
   "source": [
    "## **Building and Manipulating Dictionaries**"
   ]
  },
  {
   "cell_type": "markdown",
   "metadata": {},
   "source": [
    "**As covered in session 5 + 6, mRNA has a start codon ('AUG') and stop codons ('UAG', 'UAA', and 'UGG'). Create a dictionary called `markers` contaning `'start'` and `'stop'` as keys, and the codons as values.**"
   ]
  },
  {
   "cell_type": "markdown",
   "metadata": {},
   "source": [
    "**HINT:** You can't have multiple instances of the same key, instead store multiple values as a list tied to said key."
   ]
  },
  {
   "cell_type": "code",
   "execution_count": null,
   "metadata": {},
   "outputs": [],
   "source": [
    "# Create a dictionary called `markers`.\n"
   ]
  },
  {
   "cell_type": "markdown",
   "metadata": {},
   "source": [
    "**Print the dictionary**"
   ]
  },
  {
   "cell_type": "code",
   "execution_count": null,
   "metadata": {},
   "outputs": [],
   "source": [
    "# Print the dictionary.\n"
   ]
  },
  {
   "cell_type": "markdown",
   "metadata": {},
   "source": [
    "**Print the 2nd stop codon from the `markers` dictionary.**"
   ]
  },
  {
   "cell_type": "markdown",
   "metadata": {},
   "source": [
    "**TIP:** When assigning multiple values to a key, the values are stored in a list. Therefore, access using `[relevant index]` as seen before. Multiple square brackets may be required."
   ]
  },
  {
   "cell_type": "code",
   "execution_count": null,
   "metadata": {},
   "outputs": [],
   "source": [
    "# Print the value for the 2nd stop codon.\n"
   ]
  },
  {
   "cell_type": "markdown",
   "metadata": {},
   "source": [
    "**There was an error in one of the stop codons. The codon `'UGG'` is meant to be `'UGA'`. Correct this error by reassigning the value for the relevant index of the `'stop'` key in the cell below. Print that index to confirm the changes.**"
   ]
  },
  {
   "cell_type": "code",
   "execution_count": null,
   "metadata": {},
   "outputs": [],
   "source": [
    "# Replace the incorrect codon with the correct one.\n"
   ]
  },
  {
   "cell_type": "code",
   "execution_count": null,
   "metadata": {},
   "outputs": [],
   "source": [
    "# Print the index value you corrected.\n"
   ]
  },
  {
   "cell_type": "markdown",
   "metadata": {},
   "source": [
    "## **DNA Sequencer pt.III**"
   ]
  },
  {
   "cell_type": "markdown",
   "metadata": {},
   "source": [
    "### **Extracting an mRNA sequence**"
   ]
  },
  {
   "cell_type": "markdown",
   "metadata": {},
   "source": [
    "**Isolating the coding regions of mRNA is extremely important in sequencing, below is code that isolates the coding regions of a given sequence. The line: `start = dna.find()` is incomplete, within the brackets should be the 3-letter start codon. Instead of just typing out `'AUG'`in string format, extract the string from the `markers` dictionary defined above.**"
   ]
  },
  {
   "cell_type": "code",
   "execution_count": null,
   "metadata": {},
   "outputs": [],
   "source": [
    "# Function\n",
    "def sequence_extract(dna):\n",
    "    \n",
    "    #Raise the error here\n",
    "    \n",
    "    new = []\n",
    "    start = dna.find(#Your answer goes here)\n",
    "    \n",
    "    for i in range(start+3, len(dna)):\n",
    "        if dna[i:i+3] == \"UAG\" or dna[i:i+3] == \"UAA\" or dna[i:i+3] == \"UGA\":\n",
    "            break\n",
    "        else:\n",
    "            new.append(str(dna[i]))  \n",
    "            \n",
    "    for i in range(0, len(new)):\n",
    "        print(new[i], end = '')"
   ]
  },
  {
   "cell_type": "code",
   "execution_count": null,
   "metadata": {},
   "outputs": [],
   "source": [
    "# Use this short DNA string to test the function\n",
    "dna1 = \"AAAAUGUGCGGUGCGAAAUGCACGGCGAAAACGAAAAAAAAAUAG\"\n",
    "error = 54000"
   ]
  },
  {
   "cell_type": "markdown",
   "metadata": {},
   "source": [
    "**Edit the `sequence_extract()` function to raise a `TypeError` when the input is not in the string format, choose an error message of your liking. Then run the function on the `error` value.**"
   ]
  },
  {
   "cell_type": "code",
   "execution_count": null,
   "metadata": {},
   "outputs": [],
   "source": []
  },
  {
   "cell_type": "markdown",
   "metadata": {},
   "source": [
    "**Test the function on `dna1`.**"
   ]
  },
  {
   "cell_type": "code",
   "execution_count": null,
   "metadata": {},
   "outputs": [],
   "source": []
  },
  {
   "cell_type": "markdown",
   "metadata": {},
   "source": [
    "### **mRNA sequene to amino acid sequence**"
   ]
  },
  {
   "cell_type": "markdown",
   "metadata": {},
   "source": [
    "**In the cell below a dictionary containing codons and the amino acid they code for has been stored as `dictionary`. Run `ast.literal_eval()` on `dictionary` and immediately store the result as a variable called `codons`. This allows the .txt file to be read by python as a dictionary rather than just as a string.**"
   ]
  },
  {
   "cell_type": "code",
   "execution_count": null,
   "metadata": {},
   "outputs": [],
   "source": [
    "# Underneath,run ast.literal_eval() on `dictionary`.\n",
    "with open('biochem_resources/mRNA.txt', 'r') as f:\n",
    "    dictionary = f.read()\n",
    "    \n"
   ]
  },
  {
   "cell_type": "markdown",
   "metadata": {},
   "source": [
    "**To test the `codons` dictionary, print the value for the key `'AAA'`, this will be the amino acid called by it.**"
   ]
  },
  {
   "cell_type": "code",
   "execution_count": null,
   "metadata": {},
   "outputs": [],
   "source": [
    "# Print value for \"AAA\" codon.\n"
   ]
  },
  {
   "cell_type": "markdown",
   "metadata": {},
   "source": [
    "**Loop through the `codons` dictionary, printing both the keys and values.**"
   ]
  },
  {
   "cell_type": "markdown",
   "metadata": {},
   "source": [
    "**BONUS:** Add the `end = \"(your separator of choice)\"` argument to your print statement to keep the result compact."
   ]
  },
  {
   "cell_type": "code",
   "execution_count": null,
   "metadata": {},
   "outputs": [],
   "source": [
    "# Loop through the `codons` dictionary.\n"
   ]
  },
  {
   "cell_type": "markdown",
   "metadata": {},
   "source": [
    "**The below function, `translate()` takes an mRNA sequence and returns the amino acid sequence by referencing the `codons` dictionary.**"
   ]
  },
  {
   "cell_type": "code",
   "execution_count": null,
   "metadata": {},
   "outputs": [],
   "source": [
    "# Run this cell.\n",
    "def translate(seq): \n",
    "       \n",
    "    table = codons\n",
    "    \n",
    "    aa_sequence = \"\" \n",
    "    if len(seq)%3 == 0: \n",
    "        for i in range(0, len(seq), 3): \n",
    "            codon = seq[i:i + 3] \n",
    "            aa_sequence += table[codon] \n",
    "            \n",
    "    return aa_sequence "
   ]
  },
  {
   "cell_type": "markdown",
   "metadata": {},
   "source": [
    "**The function `read_seq` reads .txt files and extracts their contents. Replace `\"\\n\"` with `\"\"`, this has already been similarly done for `\\r`.**"
   ]
  },
  {
   "cell_type": "code",
   "execution_count": null,
   "metadata": {},
   "outputs": [],
   "source": [
    "# Replace all \"\\n\" (newlines) in the .txt document and replace with \"\".\n",
    "def read_seq(inputfile): \n",
    "    with open(inputfile, \"r\") as f: \n",
    "        seq = f.read() \n",
    "    seq = seq.replace(\"\\r\", \"\") \n",
    "    #replae \"\\n\" similarly\n",
    "    return seq "
   ]
  },
  {
   "cell_type": "markdown",
   "metadata": {},
   "source": [
    "**Run the `read_seq` function on the `'biochem_resources/opioid_receptor_mrna.txt'` file.**"
   ]
  },
  {
   "cell_type": "code",
   "execution_count": null,
   "metadata": {
    "scrolled": true
   },
   "outputs": [],
   "source": [
    "# Run `read_seq` on the file directory given above.\n"
   ]
  },
  {
   "cell_type": "markdown",
   "metadata": {},
   "source": [
    "**Store the result as a variable and use it to run the `translate()` function. The result will be the amino acid sequence of the $ \\delta$ - $\\mu$ opioid receptor protein.**"
   ]
  },
  {
   "cell_type": "code",
   "execution_count": null,
   "metadata": {
    "scrolled": true
   },
   "outputs": [],
   "source": [
    "# Store result of `read_seq()` as a variable and input it into the `translate()` functoin.\n"
   ]
  },
  {
   "cell_type": "markdown",
   "metadata": {},
   "source": [
    "## **Using RDKit**"
   ]
  },
  {
   "cell_type": "markdown",
   "metadata": {},
   "source": [
    "RDKit is a useful tool for chemists and biologists alike, we will be exploring some of its functionalities."
   ]
  },
  {
   "cell_type": "code",
   "execution_count": null,
   "metadata": {},
   "outputs": [],
   "source": [
    "# Import some useful RDKit modules.\n",
    "from rdkit import Chem\n",
    "from rdkit.Chem import Draw\n",
    "from rdkit.Chem.Draw import IPythonConsole\n",
    "from rdkit.Chem import AllChem\n",
    "from rdkit import DataStructs\n",
    "from rdkit.Chem import Descriptors\n",
    "from rdkit.Chem.Draw import SimilarityMaps\n",
    "from rdkit import RDLogger"
   ]
  },
  {
   "cell_type": "code",
   "execution_count": null,
   "metadata": {},
   "outputs": [],
   "source": [
    "# Displays 2D structures in .png format rather than .svg\n",
    "IPythonConsole.ipython_useSVG=True"
   ]
  },
  {
   "cell_type": "markdown",
   "metadata": {},
   "source": [
    "The structures of compounds can be stored in the **SMILES** format, which is extremely useful for computationally. Below is the **SMILES String** for **Morphine**. Morphine is an opiate used as pain medication, it targets the  **$ \\delta$ - $\\mu$ opioid receptor** (amino acid sequence obtained in the previous excercise)."
   ]
  },
  {
   "cell_type": "markdown",
   "metadata": {},
   "source": [
    "**SMILES (morphine):** `'CN1CC[C@]23C4=C5C=CC(O)=C4O[C@H]2[C@@H](O)C=C[C@H]3[C@H]1C5'`"
   ]
  },
  {
   "cell_type": "markdown",
   "metadata": {},
   "source": [
    "**In the cell below, input the SMILES string into the `Chem.MolFromSmiles()` function and run the cell. It should display the 2D structure of morphine.**"
   ]
  },
  {
   "cell_type": "code",
   "execution_count": null,
   "metadata": {
    "scrolled": false
   },
   "outputs": [],
   "source": [
    "# Displying morphine's 2D strucure.\n",
    "cpd_1 = Chem.MolFromSmiles(# SMILES sring goes here) \n",
    "cpd_1"
   ]
  },
  {
   "cell_type": "markdown",
   "metadata": {},
   "source": [
    "RDKit can be used to get the properties of compounds, below is the code to calculate the molecular weight for morphine."
   ]
  },
  {
   "cell_type": "code",
   "execution_count": null,
   "metadata": {},
   "outputs": [],
   "source": [
    "# Run this cell.\n",
    "# Molecular weight.\n",
    "mw = Descriptors.MolWt(cpd_1)\n",
    "mw"
   ]
  },
  {
   "cell_type": "markdown",
   "metadata": {},
   "source": [
    "**Using code similar to the above cell, use `Descriptors.NumValenceElectrons()` to compute the number of valence electrons that morphine has.**"
   ]
  },
  {
   "cell_type": "code",
   "execution_count": null,
   "metadata": {
    "scrolled": true
   },
   "outputs": [],
   "source": [
    "# Run this cell.\n",
    "# Valence electrons count.\n"
   ]
  },
  {
   "cell_type": "markdown",
   "metadata": {},
   "source": [
    "Diacetylmorphine is a prodrug; when it enters the body, it is converted to morphine. Thus they have similar structures."
   ]
  },
  {
   "cell_type": "markdown",
   "metadata": {},
   "source": [
    "**Using the SMILES string given below for diacetylmorphine (heroin), calculate its molecular weight, the number of valence eletrons, and display its 2D structure. Use code similar to the example above for morphine. Store the Mol as `cpd_2`.**"
   ]
  },
  {
   "cell_type": "markdown",
   "metadata": {},
   "source": [
    "**SMILES (diacetylmorphine):** `'CC(OC1=C(O[C@@H]2[C@]34CCN(C)[C@@H]([C@@H]4C=C[C@@H]2OC(C)=O)C5)C3=C5C=C1)=O'`"
   ]
  },
  {
   "cell_type": "code",
   "execution_count": null,
   "metadata": {
    "scrolled": true
   },
   "outputs": [],
   "source": [
    "# Diacetylmorphine's 2D strucure.\n",
    "cpd_2 = "
   ]
  },
  {
   "cell_type": "code",
   "execution_count": null,
   "metadata": {},
   "outputs": [],
   "source": [
    "# Molecular weight.\n"
   ]
  },
  {
   "cell_type": "code",
   "execution_count": null,
   "metadata": {},
   "outputs": [],
   "source": [
    "# Valence electrons count.\n"
   ]
  },
  {
   "cell_type": "markdown",
   "metadata": {},
   "source": [
    "###  **Similar molecules**"
   ]
  },
  {
   "cell_type": "markdown",
   "metadata": {},
   "source": [
    "The ability to quantitevly assess the similarity of molecules based on their structure is an extremely useful concept in the drug discovery process. It enables researchers to find more effective analogues of already existing drugs. Below, the similarity between **morphine** and **diacetylmorphine** is calculated, maximum similarity (same molecule) would yield a value of **1**."
   ]
  },
  {
   "cell_type": "code",
   "execution_count": null,
   "metadata": {},
   "outputs": [],
   "source": [
    "# Run this cell.\n",
    "ms = [cpd_1, cpd_2]\n",
    "fps = [Chem.RDKFingerprint(x) for x in ms]\n",
    "DataStructs.FingerprintSimilarity(fps[0], fps[1])"
   ]
  },
  {
   "cell_type": "markdown",
   "metadata": {},
   "source": [
    "Using the built-in fingerprinting function from the cell above, we will attempt to write a program that will find the 3 most similar molecules to morphine from a large database of compounds and their respctive SMILES strings."
   ]
  },
  {
   "cell_type": "markdown",
   "metadata": {},
   "source": [
    "First the .csv file must read and processed. The header will not be required, and neither will the final cell (as it is empty). The header is already done for you."
   ]
  },
  {
   "cell_type": "markdown",
   "metadata": {},
   "source": [
    "**Using the `del ` function in the cell below, remove the the bottom line (last index) from `lines`.**"
   ]
  },
  {
   "cell_type": "markdown",
   "metadata": {},
   "source": [
    "**HINT:** Accessing the last element in a list was covered in session 4."
   ]
  },
  {
   "cell_type": "code",
   "execution_count": null,
   "metadata": {
    "scrolled": true
   },
   "outputs": [],
   "source": [
    "# Open, read and tailor the smiles database.\n",
    "with open('./biochem_resources/smiles.csv') as f:\n",
    "    lines = f.read().split('\\n')\n",
    "    print(lines[0])\n",
    "    del lines[0]\n",
    "    # Here"
   ]
  },
  {
   "cell_type": "markdown",
   "metadata": {},
   "source": [
    "**Run the cell below.**"
   ]
  },
  {
   "cell_type": "code",
   "execution_count": null,
   "metadata": {},
   "outputs": [],
   "source": [
    "# This creates a new list, `molecules`.\n",
    "molecules = []\n",
    "for l in lines:\n",
    "    elements = l.split('\\t')\n",
    "    molecules.append({\n",
    "        'name': elements[0],\n",
    "        'smiles': elements[1]\n",
    "    })"
   ]
  },
  {
   "cell_type": "markdown",
   "metadata": {},
   "source": [
    "**The function below, `nearest_3()` will loop through the `molecules` list and assess similarity to the query input using RDKit's `DataStructs.FingerprintSimilarity()` function. Run the cell, then read through the comments to gain insight into how the function works.**"
   ]
  },
  {
   "cell_type": "code",
   "execution_count": null,
   "metadata": {},
   "outputs": [],
   "source": [
    "# The function takes the input SMILES string and returns the most similar values.\n",
    "def nearest_3(query_smiles):\n",
    "   \n",
    "    #Setting baseline similarities.\n",
    "    max_similarity = 0\n",
    "    max_similarity_2 = 0\n",
    "    max_similarity_3 = 0\n",
    "    \n",
    "    # Converting the query molecule to the Mol format and getting the molecules fingerprint.\n",
    "    query_fp = Chem.RDKFingerprint(Chem.MolFromSmiles(query_smiles))\n",
    "    \n",
    "    # Loop through the `molecules` database - `tdqm()` is to add a progress bar.\n",
    "    for test_mol in tqdm(molecules, desc='BEST MATCH'):\n",
    "        \n",
    "        # Transformating each encountered variable into the necessary format.\n",
    "        test_fp = Chem.RDKFingerprint(Chem.MolFromSmiles(test_mol['smiles']))\n",
    "        similarity = DataStructs.FingerprintSimilarity(test_fp, query_fp)\n",
    "        \n",
    "        #This will continuously update the `best_mol` variable with the most similar molecule.\n",
    "        #The similarity cannot be equal to 1 otherwise the loop will return the query molecule as most similar.\n",
    "        if max_similarity < similarity < 1:\n",
    "            max_similarity = similarity\n",
    "            best_mol = test_mol\n",
    "        \n",
    "    #Repitition of the code to obtain the 2nd most similar molecule from the database    \n",
    "    for test_mol_2 in tqdm(molecules, desc='SECOND MATCH'):\n",
    "        \n",
    "        \n",
    "        test_fp_2 = Chem.RDKFingerprint(Chem.MolFromSmiles(test_mol_2['smiles']))\n",
    "        similarity_2 = DataStructs.FingerprintSimilarity(test_fp_2, query_fp)    \n",
    "\n",
    "        #Basically the same as the loop above, however the maximum similarity is now set to the \"best match's\" similarity\n",
    "        #This ensures that the most similar molecule found this time will not include the \"best match\" from the first loop\n",
    "        if  max_similarity_2 < similarity_2 < max_similarity:\n",
    "            max_similarity_2 = similarity_2\n",
    "            second_mol = test_mol_2  \n",
    "    \n",
    "    #Repitition of the code to obtain the 3rd most similar molecule from the database \n",
    "    for test_mol_3 in tqdm(molecules, desc='THIRD MATCH'):\n",
    "\n",
    "        \n",
    "        test_fp_3 = Chem.RDKFingerprint(Chem.MolFromSmiles(test_mol_3['smiles']))\n",
    "        similarity_3 = DataStructs.FingerprintSimilarity(test_fp_3, query_fp)    \n",
    "\n",
    "\n",
    "        if  max_similarity_3 < similarity_3 < max_similarity_2:\n",
    "            max_similarity_3 = similarity_3\n",
    "            third_mol = test_mol_3\n",
    "            \n",
    "    #The values that the function will return - TAKE NOTE\n",
    "    return best_mol,second_mol, third_mol, max_similarity, max_similarity_2, max_similarity_3"
   ]
  },
  {
   "cell_type": "markdown",
   "metadata": {},
   "source": [
    "**Store the SMILES string of morphine into a variable name of your choice.**"
   ]
  },
  {
   "cell_type": "markdown",
   "metadata": {},
   "source": [
    "**SMILES (morphine):** `'CN1CC[C@]23C4=C5C=CC(O)=C4O[C@H]2[C@@H](O)C=C[C@H]3[C@H]1C5'`"
   ]
  },
  {
   "cell_type": "code",
   "execution_count": null,
   "metadata": {},
   "outputs": [],
   "source": [
    "# Store smiles string in a variable\n"
   ]
  },
  {
   "cell_type": "markdown",
   "metadata": {},
   "source": [
    "**Run the `nearest_3` function on the morphine SMILES string, store the result as `run_1`.** (It may take a few minutes)"
   ]
  },
  {
   "cell_type": "code",
   "execution_count": null,
   "metadata": {},
   "outputs": [],
   "source": [
    "# Remember to store the result in a variable called `run_` - This can all be done in 1 line.\n"
   ]
  },
  {
   "cell_type": "markdown",
   "metadata": {},
   "source": [
    "**What is `run_1`'s `type()` ?**"
   ]
  },
  {
   "cell_type": "code",
   "execution_count": null,
   "metadata": {},
   "outputs": [],
   "source": [
    "#Find out what type() `run_1` is.\n"
   ]
  },
  {
   "cell_type": "markdown",
   "metadata": {},
   "source": [
    "**Print `run_1`.**"
   ]
  },
  {
   "cell_type": "code",
   "execution_count": null,
   "metadata": {},
   "outputs": [],
   "source": []
  },
  {
   "cell_type": "markdown",
   "metadata": {},
   "source": [
    "**Print the 2nd most similar molecule's results.**"
   ]
  },
  {
   "cell_type": "markdown",
   "metadata": {},
   "source": [
    "**HINT:** Look at which values the function `return`'s, and print that index."
   ]
  },
  {
   "cell_type": "code",
   "execution_count": null,
   "metadata": {
    "scrolled": true
   },
   "outputs": [],
   "source": [
    "# Overall results summary for the best match.\n"
   ]
  },
  {
   "cell_type": "markdown",
   "metadata": {},
   "source": [
    "**Print the similarity (<1) of the 3rd most simlar molecule to the query.**"
   ]
  },
  {
   "cell_type": "markdown",
   "metadata": {},
   "source": [
    "**HINT:** Look at which values the function `return`'s."
   ]
  },
  {
   "cell_type": "code",
   "execution_count": null,
   "metadata": {
    "scrolled": true
   },
   "outputs": [],
   "source": [
    "# Similarity for 3rd match.\n"
   ]
  },
  {
   "cell_type": "markdown",
   "metadata": {},
   "source": [
    "**Print the name of the most similar molecule found from the result.**"
   ]
  },
  {
   "cell_type": "code",
   "execution_count": null,
   "metadata": {},
   "outputs": [],
   "source": [
    "# HINT: view the result of this cell - how do you access elements from this type of data?\n",
    "type(run_1[0])"
   ]
  },
  {
   "cell_type": "code",
   "execution_count": null,
   "metadata": {
    "scrolled": false
   },
   "outputs": [],
   "source": [
    "# Print the 'name' of the most similar result.\n"
   ]
  },
  {
   "cell_type": "markdown",
   "metadata": {},
   "source": [
    "**The cells below will produce a visual of the result - If there are any errors, make sure you have assigned the result of the function to `run_1`**"
   ]
  },
  {
   "cell_type": "code",
   "execution_count": null,
   "metadata": {},
   "outputs": [],
   "source": [
    "# Conversion of the results into an appropriate format to be drawn from.\n",
    "query_m = Chem.MolFromSmiles(query_smiles)\n",
    "match_m = Chem.MolFromSmiles(run_1[0]['smiles'])\n",
    "match_2_m = Chem.MolFromSmiles(run_1[1]['smiles'])\n",
    "match_3_m = Chem.MolFromSmiles(run_1[2]['smiles'])"
   ]
  },
  {
   "cell_type": "code",
   "execution_count": null,
   "metadata": {},
   "outputs": [],
   "source": [
    "# Draws all the results and stores the images in a grid.\n",
    "Draw.MolsToGridImage(\n",
    "    (query_m, match_m, match_2_m, match_3_m),\n",
    "    legends = ('MORPHINE (Query)','Best Match: '+ run_1[0]['name'],'2. '+ run_1[1]['name'],'3. '+ run_1[2]['name']),\n",
    "    molsPerRow=2, subImgSize=(450, 450)\n",
    ")"
   ]
  }
 ],
 "metadata": {
  "kernelspec": {
   "display_name": "Python 3",
   "language": "python",
   "name": "python3"
  },
  "language_info": {
   "codemirror_mode": {
    "name": "ipython",
    "version": 3
   },
   "file_extension": ".py",
   "mimetype": "text/x-python",
   "name": "python",
   "nbconvert_exporter": "python",
   "pygments_lexer": "ipython3",
   "version": "3.6.12"
  }
 },
 "nbformat": 4,
 "nbformat_minor": 4
}
